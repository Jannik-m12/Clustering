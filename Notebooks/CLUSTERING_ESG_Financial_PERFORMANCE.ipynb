{
 "cells": [
  {
   "cell_type": "markdown",
   "id": "ef9a5639",
   "metadata": {},
   "source": [
    "# ESG and Financial Performance Clustering Analysis\n",
    "\n",
    "## Project Overview\n",
    "This notebook performs comprehensive clustering analysis on ESG (Environmental, Social, Governance) and financial performance data to identify distinct company profiles and patterns. The analysis aims to understand how companies cluster based on their ESG initiatives and financial metrics.\n",
    "\n",
    "**Objectives:**\n",
    "- Identify distinct clusters of companies based on ESG and financial performance\n",
    "- Analyze relationships between ESG scores and financial metrics\n",
    "- Provide actionable insights for investment and sustainability strategies"
   ]
  },
  {
   "cell_type": "markdown",
   "id": "779928ed",
   "metadata": {},
   "source": [
    "## 1. Library Imports and Setup\n",
    "Setting up all required libraries for data manipulation, visualization, and clustering analysis."
   ]
  },
  {
   "cell_type": "code",
   "execution_count": 12,
   "id": "7dff909c",
   "metadata": {},
   "outputs": [
    {
     "name": "stdout",
     "output_type": "stream",
     "text": [
      "All clustering and EDA modules imported successfully!\n"
     ]
    }
   ],
   "source": [
    "# Standard Data Manipulation and Analysis\n",
    "import pandas as pd\n",
    "import numpy as np\n",
    "\n",
    "# Data Visualization\n",
    "import matplotlib.pyplot as plt\n",
    "import seaborn as sns\n",
    "import plotly.express as px\n",
    "import plotly.graph_objects as go\n",
    "from plotly.subplots import make_subplots\n",
    "\n",
    "# Statistical Analysis\n",
    "import scipy.stats as stats\n",
    "from scipy.cluster.hierarchy import dendrogram, linkage, fcluster\n",
    "from scipy.spatial.distance import pdist, squareform\n",
    "\n",
    "# Machine Learning - Clustering\n",
    "from sklearn.cluster import KMeans, DBSCAN, AgglomerativeClustering, SpectralClustering\n",
    "from sklearn.mixture import GaussianMixture\n",
    "\n",
    "# Machine Learning - Preprocessing and Metrics\n",
    "from sklearn.preprocessing import StandardScaler, MinMaxScaler, RobustScaler\n",
    "from sklearn.decomposition import PCA\n",
    "from sklearn.manifold import TSNE\n",
    "from sklearn.metrics import silhouette_score, calinski_harabasz_score, davies_bouldin_score\n",
    "from sklearn.metrics import adjusted_rand_score, normalized_mutual_info_score\n",
    "\n",
    "# Clustering Validation and Analysis\n",
    "from sklearn.cluster import KMeans\n",
    "from kneed import KneeLocator\n",
    "from yellowbrick.cluster import KElbowVisualizer, SilhouetteVisualizer\n",
    "\n",
    "# Utilities\n",
    "import warnings\n",
    "warnings.filterwarnings('ignore')\n",
    "\n",
    "# Set plotting style\n",
    "plt.style.use('seaborn-v0_8')\n",
    "sns.set_palette(\"husl\")\n",
    "\n",
    "# Display options\n",
    "pd.set_option('display.max_columns', None)\n",
    "pd.set_option('display.width', None)\n",
    "pd.set_option('display.max_colwidth', None)\n",
    "\n",
    "print(\"All clustering and EDA modules imported successfully!\")"
   ]
  },
  {
   "cell_type": "markdown",
   "id": "99e27eb3",
   "metadata": {},
   "source": [
    "## 2. Data Loading and Initial Inspection\n",
    "Loading the ESG and financial performance dataset and performing initial data exploration."
   ]
  },
  {
   "cell_type": "code",
   "execution_count": 13,
   "id": "884c72a3",
   "metadata": {},
   "outputs": [
    {
     "name": "stdout",
     "output_type": "stream",
     "text": [
      "Dataset loaded successfully from ../Data/\n",
      "Dataset shape: (11000, 16)\n",
      "Columns: ['CompanyID', 'CompanyName', 'Industry', 'Region', 'Year', 'Revenue', 'ProfitMargin', 'MarketCap', 'GrowthRate', 'ESG_Overall', 'ESG_Environmental', 'ESG_Social', 'ESG_Governance', 'CarbonEmissions', 'WaterUsage', 'EnergyConsumption']\n",
      "Memory usage: 3.19 MB\n",
      "\n",
      "First few rows:\n",
      "   CompanyID CompanyName Industry         Region  Year  Revenue  ProfitMargin  \\\n",
      "0          1   Company_1   Retail  Latin America  2015    459.2           6.0   \n",
      "1          1   Company_1   Retail  Latin America  2016    473.8           4.6   \n",
      "2          1   Company_1   Retail  Latin America  2017    564.9           5.2   \n",
      "3          1   Company_1   Retail  Latin America  2018    558.4           4.3   \n",
      "4          1   Company_1   Retail  Latin America  2019    554.5           4.9   \n",
      "\n",
      "   MarketCap  GrowthRate  ESG_Overall  ESG_Environmental  ESG_Social  \\\n",
      "0      337.5         NaN         57.0               60.7        33.5   \n",
      "1      366.6         3.2         56.7               58.9        32.8   \n",
      "2      313.4        19.2         56.5               57.6        34.0   \n",
      "3      283.0        -1.1         58.0               62.3        33.4   \n",
      "4      538.1        -0.7         56.6               63.7        30.0   \n",
      "\n",
      "   ESG_Governance  CarbonEmissions  WaterUsage  EnergyConsumption  \n",
      "0            76.8          35577.4     17788.7            71154.7  \n",
      "1            78.5          37314.7     18657.4            74629.4  \n",
      "2            77.8          45006.4     22503.2            90012.9  \n",
      "3            78.3          42650.1     21325.1            85300.2  \n",
      "4            76.1          41799.4     20899.7            83598.8  \n"
     ]
    }
   ],
   "source": [
    "# Load the dataset\n",
    "# Dataset is now available in the Data directory\n",
    "try:\n",
    "    # Try loading from Data directory\n",
    "    data = pd.read_csv('../Data/company_esg_financial_dataset.csv')\n",
    "    print(\"Dataset loaded successfully from ../Data/\")\n",
    "except FileNotFoundError:\n",
    "    try:\n",
    "        # Try loading from current directory (if file was moved)\n",
    "        data = pd.read_csv('company_esg_financial_dataset.csv')\n",
    "        print(\"Dataset loaded successfully from current directory\")\n",
    "    except FileNotFoundError:\n",
    "        print(\"Dataset not found. Please make sure the file exists.\")\n",
    "        data = None\n",
    "\n",
    "if data is not None:\n",
    "    print(f\"Dataset shape: {data.shape}\")\n",
    "    print(f\"Columns: {list(data.columns)}\")\n",
    "    print(f\"Memory usage: {data.memory_usage(deep=True).sum() / 1024**2:.2f} MB\")\n",
    "    print(\"\\nFirst few rows:\")\n",
    "    print(data.head())"
   ]
  },
  {
   "cell_type": "markdown",
   "id": "834be1b1",
   "metadata": {},
   "source": [
    "## 3. Exploratory Data Analysis (EDA)\n",
    "\n",
    "### 3.1 Dataset Overview and Basic Statistics\n",
    "Understanding the structure, data types, and basic statistical properties of the dataset."
   ]
  },
  {
   "cell_type": "markdown",
   "id": "08815d32",
   "metadata": {},
   "source": [
    "### 3.2 Missing Values and Data Quality Assessment\n",
    "Identifying and handling missing values, outliers, and data quality issues."
   ]
  },
  {
   "cell_type": "markdown",
   "id": "8dd6b0ea",
   "metadata": {},
   "source": [
    "### 3.3 Distribution Analysis\n",
    "Analyzing the distribution of key variables including financial metrics and ESG scores."
   ]
  },
  {
   "cell_type": "markdown",
   "id": "21749b4f",
   "metadata": {},
   "source": [
    "### 3.4 Correlation Analysis\n",
    "Examining relationships between financial performance metrics and ESG scores."
   ]
  },
  {
   "cell_type": "markdown",
   "id": "db6b1fe4",
   "metadata": {},
   "source": [
    "### 3.5 Industry and Regional Analysis\n",
    "Exploring patterns across different industries and geographical regions."
   ]
  },
  {
   "cell_type": "markdown",
   "id": "1da8dd78",
   "metadata": {},
   "source": [
    "## 4. Data Preprocessing for Clustering\n",
    "\n",
    "### 4.1 Feature Selection\n",
    "Selecting the most relevant features for clustering analysis."
   ]
  },
  {
   "cell_type": "markdown",
   "id": "71f0b685",
   "metadata": {},
   "source": [
    "### 4.2 Data Cleaning and Outlier Treatment\n",
    "Handling missing values, outliers, and data inconsistencies."
   ]
  },
  {
   "cell_type": "markdown",
   "id": "48d15d14",
   "metadata": {},
   "source": [
    "### 4.3 Feature Scaling and Normalization\n",
    "Standardizing features to ensure equal contribution to clustering algorithms."
   ]
  },
  {
   "cell_type": "markdown",
   "id": "4ad64bfa",
   "metadata": {},
   "source": [
    "### 4.4 Dimensionality Reduction\n",
    "Applying PCA and t-SNE for visualization and potentially improved clustering."
   ]
  },
  {
   "cell_type": "markdown",
   "id": "a9aebf03",
   "metadata": {},
   "source": [
    "## 5. Optimal Number of Clusters\n",
    "\n",
    "### 5.1 Elbow Method\n",
    "Using the within-cluster sum of squares (WCSS) to determine optimal k."
   ]
  },
  {
   "cell_type": "markdown",
   "id": "20d25e94",
   "metadata": {},
   "source": [
    "### 5.2 Silhouette Analysis\n",
    "Evaluating cluster quality using silhouette scores for different k values."
   ]
  },
  {
   "cell_type": "markdown",
   "id": "4caa885b",
   "metadata": {},
   "source": [
    "### 5.3 Gap Statistic and Other Methods\n",
    "Additional methods for determining optimal cluster numbers."
   ]
  },
  {
   "cell_type": "markdown",
   "id": "87f4e560",
   "metadata": {},
   "source": [
    "## 6. Clustering Algorithm Implementation\n",
    "\n",
    "### 6.1 K-Means Clustering\n",
    "Implementing K-Means clustering with optimal parameters."
   ]
  },
  {
   "cell_type": "markdown",
   "id": "ffc7152a",
   "metadata": {},
   "source": [
    "### 6.2 Hierarchical Clustering\n",
    "Implementing agglomerative and divisive hierarchical clustering methods."
   ]
  },
  {
   "cell_type": "markdown",
   "id": "87f31690",
   "metadata": {},
   "source": [
    "### 6.3 DBSCAN Clustering\n",
    "Density-based clustering to identify clusters of varying shapes and sizes."
   ]
  },
  {
   "cell_type": "markdown",
   "id": "42b3719c",
   "metadata": {},
   "source": [
    "### 6.4 Gaussian Mixture Models\n",
    "Probabilistic clustering using Gaussian Mixture Models."
   ]
  },
  {
   "cell_type": "markdown",
   "id": "eb9a7c93",
   "metadata": {},
   "source": [
    "## 7. Cluster Validation and Evaluation\n",
    "\n",
    "### 7.1 Internal Validation Metrics\n",
    "Evaluating clusters using silhouette score, Calinski-Harabasz index, and Davies-Bouldin index."
   ]
  },
  {
   "cell_type": "markdown",
   "id": "4daca61d",
   "metadata": {},
   "source": [
    "### 7.2 Algorithm Comparison\n",
    "Comparing the performance of different clustering algorithms."
   ]
  },
  {
   "cell_type": "markdown",
   "id": "a86940e7",
   "metadata": {},
   "source": [
    "## 8. Cluster Analysis and Interpretation\n",
    "\n",
    "### 8.1 Cluster Characteristics\n",
    "Analyzing the characteristics of each identified cluster."
   ]
  },
  {
   "cell_type": "markdown",
   "id": "5ceb7ac4",
   "metadata": {},
   "source": [
    "### 8.2 Cluster Profiling\n",
    "Creating detailed profiles for each cluster including ESG and financial characteristics."
   ]
  },
  {
   "cell_type": "markdown",
   "id": "6e35a0e1",
   "metadata": {},
   "source": [
    "### 8.3 Industry and Regional Patterns\n",
    "Analyzing how clusters relate to industry sectors and geographical regions."
   ]
  },
  {
   "cell_type": "markdown",
   "id": "f4d5ec13",
   "metadata": {},
   "source": [
    "## 9. Visualization and Insights\n",
    "\n",
    "### 9.1 Cluster Visualization\n",
    "Creating comprehensive visualizations of clusters in 2D and 3D space."
   ]
  },
  {
   "cell_type": "markdown",
   "id": "d8aebb21",
   "metadata": {},
   "source": [
    "### 9.2 Interactive Dashboards\n",
    "Creating interactive visualizations for cluster exploration."
   ]
  },
  {
   "cell_type": "markdown",
   "id": "07adf7e7",
   "metadata": {},
   "source": [
    "### 9.3 Business Intelligence Insights\n",
    "Extracting actionable business insights from the clustering results."
   ]
  },
  {
   "cell_type": "markdown",
   "id": "13975f73",
   "metadata": {},
   "source": [
    "## 10. Conclusions and Recommendations\n",
    "\n",
    "### 10.1 Key Findings\n",
    "Summarizing the main discoveries from the clustering analysis."
   ]
  },
  {
   "cell_type": "markdown",
   "id": "0a7f90b7",
   "metadata": {},
   "source": [
    "### 10.2 Investment and Business Strategy Recommendations\n",
    "Providing actionable recommendations based on cluster characteristics."
   ]
  },
  {
   "cell_type": "markdown",
   "id": "2ae1def6",
   "metadata": {},
   "source": [
    "### 10.3 Future Work and Limitations\n",
    "Discussing limitations of the current analysis and suggestions for future improvements."
   ]
  }
 ],
 "metadata": {
  "kernelspec": {
   "display_name": ".venv",
   "language": "python",
   "name": "python3"
  },
  "language_info": {
   "codemirror_mode": {
    "name": "ipython",
    "version": 3
   },
   "file_extension": ".py",
   "mimetype": "text/x-python",
   "name": "python",
   "nbconvert_exporter": "python",
   "pygments_lexer": "ipython3",
   "version": "3.9.6"
  }
 },
 "nbformat": 4,
 "nbformat_minor": 5
}
