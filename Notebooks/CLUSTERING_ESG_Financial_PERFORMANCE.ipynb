{
 "cells": [
  {
   "cell_type": "code",
   "execution_count": 1,
   "id": "7dff909c",
   "metadata": {},
   "outputs": [
    {
     "name": "stdout",
     "output_type": "stream",
     "text": [
      "All clustering and EDA modules imported successfully!\n"
     ]
    }
   ],
   "source": [
    "# Standard Data Manipulation and Analysis\n",
    "import pandas as pd\n",
    "import numpy as np\n",
    "\n",
    "# Data Visualization\n",
    "import matplotlib.pyplot as plt\n",
    "import seaborn as sns\n",
    "import plotly.express as px\n",
    "import plotly.graph_objects as go\n",
    "from plotly.subplots import make_subplots\n",
    "\n",
    "# Statistical Analysis\n",
    "import scipy.stats as stats\n",
    "from scipy.cluster.hierarchy import dendrogram, linkage, fcluster\n",
    "from scipy.spatial.distance import pdist, squareform\n",
    "\n",
    "# Machine Learning - Clustering\n",
    "from sklearn.cluster import KMeans, DBSCAN, AgglomerativeClustering, SpectralClustering\n",
    "from sklearn.mixture import GaussianMixture\n",
    "\n",
    "# Machine Learning - Preprocessing and Metrics\n",
    "from sklearn.preprocessing import StandardScaler, MinMaxScaler, RobustScaler\n",
    "from sklearn.decomposition import PCA\n",
    "from sklearn.manifold import TSNE\n",
    "from sklearn.metrics import silhouette_score, calinski_harabasz_score, davies_bouldin_score\n",
    "from sklearn.metrics import adjusted_rand_score, normalized_mutual_info_score\n",
    "\n",
    "# Clustering Validation and Analysis\n",
    "from sklearn.cluster import KMeans\n",
    "from kneed import KneeLocator\n",
    "from yellowbrick.cluster import KElbowVisualizer, SilhouetteVisualizer\n",
    "\n",
    "# Utilities\n",
    "import warnings\n",
    "warnings.filterwarnings('ignore')\n",
    "\n",
    "# Set plotting style\n",
    "plt.style.use('seaborn-v0_8')\n",
    "sns.set_palette(\"husl\")\n",
    "\n",
    "# Display options\n",
    "pd.set_option('display.max_columns', None)\n",
    "pd.set_option('display.width', None)\n",
    "pd.set_option('display.max_colwidth', None)\n",
    "\n",
    "print(\"All clustering and EDA modules imported successfully!\")"
   ]
  },
  {
   "cell_type": "code",
   "execution_count": 4,
   "id": "884c72a3",
   "metadata": {},
   "outputs": [
    {
     "name": "stdout",
     "output_type": "stream",
     "text": [
      "Dataset not found. Please update the path or run the data download script first.\n",
      "You may need to copy the dataset from the kagglehub download location.\n"
     ]
    }
   ],
   "source": [
    "# Load the dataset\n",
    "# Note: Update the path based on where your dataset was downloaded from kagglehub\n",
    "try:\n",
    "    # Try loading from common locations\n",
    "    data = pd.read_csv('company_esg_financial_dataset.csv')\n",
    "    print(\"Dataset loaded successfully from ../Data/\")\n",
    "except FileNotFoundError:\n",
    "    try:\n",
    "        data = pd.read_csv('company_esg_financial_dataset.csv')\n",
    "        print(\"Dataset loaded successfully from current directory\")\n",
    "    except FileNotFoundError:\n",
    "        print(\"Dataset not found. Please update the path or run the data download script first.\")\n",
    "        print(\"You may need to copy the dataset from the kagglehub download location.\")\n",
    "        data = None\n",
    "\n",
    "if data is not None:\n",
    "    print(f\"Dataset shape: {data.shape}\")\n",
    "    print(f\"Columns: {list(data.columns)}\")\n",
    "    print(\"\\nFirst few rows:\")\n",
    "    print(data.head())"
   ]
  }
 ],
 "metadata": {
  "kernelspec": {
   "display_name": ".venv",
   "language": "python",
   "name": "python3"
  },
  "language_info": {
   "codemirror_mode": {
    "name": "ipython",
    "version": 3
   },
   "file_extension": ".py",
   "mimetype": "text/x-python",
   "name": "python",
   "nbconvert_exporter": "python",
   "pygments_lexer": "ipython3",
   "version": "3.9.6"
  }
 },
 "nbformat": 4,
 "nbformat_minor": 5
}
